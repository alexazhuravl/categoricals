{
 "cells": [
  {
   "cell_type": "code",
   "execution_count": null,
   "metadata": {},
   "outputs": [],
   "source": [
    "import pandas as pd\n",
    "df = pd.read_csv('/path/to/file.csv')\n",
    "out_transposed = df.T\n",
    "t = out_transposed[0][2:].sort_values(ascending = False)\n",
    "out = t.to_frame().reset_index()\n",
    "out.columns.values[1] = list(out_transposed[0].iloc[[1]])\n",
    "to_concat = [out]\n",
    "for i in list(out_transposed)[1:]:\n",
    "    tmp = out_transposed[i][2:].sort_values(ascending = False)\n",
    "    tmp = tmp.to_frame().reset_index()\n",
    "    tmp.columns.values[1] = list(out_transposed[i].iloc[[1]])\n",
    "    to_concat += [tmp]\n",
    "df_out = pd.concat(to_concat, axis=1)\n",
    "df_out.to_csv('scoring_data.csv')\n",
    "\n",
    "\n"
   ]
  }
 ],
 "metadata": {
  "kernelspec": {
   "display_name": "Python 3",
   "language": "python",
   "name": "python3"
  },
  "language_info": {
   "codemirror_mode": {
    "name": "ipython",
    "version": 3
   },
   "file_extension": ".py",
   "mimetype": "text/x-python",
   "name": "python",
   "nbconvert_exporter": "python",
   "pygments_lexer": "ipython3",
   "version": "3.6.3"
  }
 },
 "nbformat": 4,
 "nbformat_minor": 1
}
