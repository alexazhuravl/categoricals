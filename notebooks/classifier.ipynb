{
 "cells": [
  {
   "cell_type": "code",
   "execution_count": 69,
   "metadata": {
    "collapsed": false
   },
   "outputs": [],
   "source": [
    "import numpy as np\n",
    "import pandas as pd\n",
    "\n",
    "from sklearn.feature_extraction.text import TfidfVectorizer\n",
    "from sklearn.linear_model import LogisticRegression\n",
    "from sklearn.model_selection import cross_val_score\n",
    "from scipy.sparse import hstack\n",
    "from sklearn.utils import shuffle\n"
   ]
  },
  {
   "cell_type": "code",
   "execution_count": 70,
   "metadata": {
    "collapsed": true
   },
   "outputs": [],
   "source": [
    "train = pd.read_csv('path/to/file.csv',encoding=\"ISO-8859-1\")\n",
    "test = pd.read_csv('path/to/file.csv', encoding = \"utf-8\")"
   ]
  },
  {
   "cell_type": "code",
   "execution_count": 71,
   "metadata": {},
   "outputs": [
    {
     "name": "stdout",
     "output_type": "stream",
     "text": [
      "Total rows in test is 106\nTotal rows in train is 1026\ncategory_access stairs                               3\ncategory_alarms                                      5\ncategory_ankle and wrist weights                     1\ncategory_anti slip mats                              6\ncategory_aprons and bibs                             5\ncategory_arm slings                                  4\ncategory_arm supports                                1\ncategory_back support for bath                       1\ncategory_bands and elastics                          1\ncategory_bath lift pommel                            1\ncategory_bath seats                                  5\ncategory_bathing sponges                             1\ncategory_bathing supports and stabilisers            1\ncategory_bathrobes and towels                        3\ncategory_bathroom caddy                              1\ncategory_bathtub shelves                             1\ncategory_bathtub slings                              1\ncategory_bathtub splash guards and panels            3\ncategory_bed pans                                    3\ncategory_belts                                       1\ncategory_benches                                     2\ncategory_bidets                                      3\ncategory_blankets                                    2\ncategory_body brushes                                2\ncategory_body dryer                                  1\ncategory_book support and book holders               2\ncategory_bowls                                       1\ncategory_boxes and jars                              1\ncategory_boxes, trays and meal delivery systems      3\ncategory_bread makers                                1\n                                                    ..\ncategory_transfer lift                               2\ncategory_trays                                       6\ncategory_trolleys                                    2\ncategory_trouser aids                                1\ncategory_tube squeezers                              1\ncategory_turning aids                                1\ncategory_tweezers                                    2\ncategory_umbrellas                                   1\ncategory_underwear                                  14\ncategory_urinals                                     5\ncategory_utensils                                    1\ncategory_vegetable brushes                           2\ncategory_vegetable dryers                            3\ncategory_visual boards                               1\ncategory_warmers                                     6\ncategory_washcloths                                  3\ncategory_washing and drying clothes and garments     1\ncategory_waste bins                                  3\ncategory_water thermometers                          1\ncategory_weed pullers                                1\ncategory_weighted blankets                           2\ncategory_wet wipes                                   1\ncategory_whisks and brushes                          3\ncategory_white boards                                6\ncategory_whiteboard reminders                        1\ncategory_wipers                                      1\ncategory_wrist hold-down and supports                2\ncategory_wrist orthoses                              2\ncategory_zesters                                     1\ncategory_zipper pullers                              3\nLength: 342, dtype: int64\n"
     ]
    }
   ],
   "source": [
    "print('Total rows in test is {}'.format(len(test)))  \n",
    "print('Total rows in train is {}'.format(len(train)))\n",
    "cols_target = list(train)[2:]\n",
    "print(train[cols_target].sum())"
   ]
  },
  {
   "cell_type": "code",
   "execution_count": 72,
   "metadata": {},
   "outputs": [],
   "source": [
    "data = train[cols_target]   "
   ]
  },
  {
   "cell_type": "code",
   "execution_count": 73,
   "metadata": {},
   "outputs": [],
   "source": [
    ""
   ]
  },
  {
   "cell_type": "code",
   "execution_count": 73,
   "metadata": {},
   "outputs": [],
   "source": [
    "def clean_text(text):\n",
    "    text = text.lower()\n",
    "    text = text.strip(' ')\n",
    "    return text\n"
   ]
  },
  {
   "cell_type": "code",
   "execution_count": 74,
   "metadata": {},
   "outputs": [],
   "source": [
    "test['title'] = test['title'].map(lambda com : clean_text(com))\n",
    "train['title'] = train['title'].map(lambda com : clean_text(com))\n"
   ]
  },
  {
   "cell_type": "code",
   "execution_count": 75,
   "metadata": {},
   "outputs": [],
   "source": [
    "X = train.title"
   ]
  },
  {
   "cell_type": "code",
   "execution_count": 76,
   "metadata": {},
   "outputs": [],
   "source": [
    "test_X = test.title"
   ]
  },
  {
   "cell_type": "code",
   "execution_count": 77,
   "metadata": {},
   "outputs": [
    {
     "name": "stdout",
     "output_type": "stream",
     "text": [
      "(1026,) (106,)\n"
     ]
    }
   ],
   "source": [
    "print(X.shape, test_X.shape)\n"
   ]
  },
  {
   "cell_type": "code",
   "execution_count": 78,
   "metadata": {},
   "outputs": [
    {
     "data": {
      "text/plain": [
       "TfidfVectorizer(analyzer='word', binary=False, decode_error='strict',\n        dtype=<class 'numpy.int64'>, encoding='utf-8', input='content',\n        lowercase=True, max_df=1.0, max_features=5000, min_df=1,\n        ngram_range=(1, 1), norm='l2', preprocessor=None, smooth_idf=True,\n        stop_words='english', strip_accents=None, sublinear_tf=False,\n        token_pattern='(?u)\\\\b\\\\w\\\\w+\\\\b', tokenizer=None, use_idf=True,\n        vocabulary=None)"
      ]
     },
     "execution_count": 78,
     "metadata": {},
     "output_type": "execute_result"
    }
   ],
   "source": [
    "from sklearn.feature_extraction.text import CountVectorizer\n",
    "from sklearn.feature_extraction.text import TfidfVectorizer\n",
    "vect = TfidfVectorizer(max_features=5000,stop_words='english')\n",
    "vect"
   ]
  },
  {
   "cell_type": "code",
   "execution_count": 79,
   "metadata": {},
   "outputs": [],
   "source": [
    "X_dtm = vect.fit_transform(X)"
   ]
  },
  {
   "cell_type": "code",
   "execution_count": 80,
   "metadata": {},
   "outputs": [
    {
     "data": {
      "text/plain": [
       "<1026x1007 sparse matrix of type '<class 'numpy.float64'>'\n\twith 2530 stored elements in Compressed Sparse Row format>"
      ]
     },
     "execution_count": 80,
     "metadata": {},
     "output_type": "execute_result"
    }
   ],
   "source": [
    "X_dtm"
   ]
  },
  {
   "cell_type": "code",
   "execution_count": 81,
   "metadata": {},
   "outputs": [],
   "source": [
    "test_X_dtm = vect.transform(test_X)\n"
   ]
  },
  {
   "cell_type": "code",
   "execution_count": 85,
   "metadata": {},
   "outputs": [
    {
     "data": {
      "text/plain": [
       "<106x1007 sparse matrix of type '<class 'numpy.float64'>'\n\twith 210 stored elements in Compressed Sparse Row format>"
      ]
     },
     "execution_count": 85,
     "metadata": {},
     "output_type": "execute_result"
    }
   ],
   "source": [
    "test_X_dtm\n",
    "\n"
   ]
  },
  {
   "cell_type": "code",
   "execution_count": null,
   "metadata": {},
   "outputs": [],
   "source": [
    "# import and instantiate the Logistic Regression model\n",
    "from sklearn.linear_model import LogisticRegression\n",
    "from sklearn.metrics import accuracy_score\n",
    "logreg = LogisticRegression(C=12.0)\n",
    "\n",
    "# create submission file\n",
    "sample_submission = pd.read_csv('path/to/file.csv', encoding = \"utf-8\")\n",
    "for label in cols_target:\n",
    "    print('... Processing {}'.format(label))\n",
    "    y = train[label]\n",
    "    # train the model using X_dtm & y\n",
    "    logreg.fit(X_dtm, y)\n",
    "    # compute the training accuracy\n",
    "    y_pred_X = logreg.predict(X_dtm)\n",
    "    print('Training accuracy is {}'.format(accuracy_score(y, y_pred_X)))\n",
    "    # compute the predicted probabilities for X_test_dtm\n",
    "    test_y_prob = logreg.predict_proba(test_X_dtm)[:,1]\n",
    "    submission_binary[label] = test_y_prob\n",
    "submission_binary.to_csv('submission_binary.csv',index=False)\n",
    "submission_binary.describe()\n",
    "\n"
   ]
  }
 ],
 "metadata": {
  "kernelspec": {
   "display_name": "Python 2",
   "language": "python",
   "name": "python2"
  },
  "language_info": {
   "codemirror_mode": {
    "name": "ipython",
    "version": 2
   },
   "file_extension": ".py",
   "mimetype": "text/x-python",
   "name": "python",
   "nbconvert_exporter": "python",
   "pygments_lexer": "ipython2",
   "version": "2.7.6"
  }
 },
 "nbformat": 4,
 "nbformat_minor": 0
}
